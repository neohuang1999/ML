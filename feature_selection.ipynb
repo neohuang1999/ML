{
 "cells": [
  {
   "cell_type": "code",
   "execution_count": 1,
   "metadata": {},
   "outputs": [
    {
     "name": "stderr",
     "output_type": "stream",
     "text": [
      "C:\\Users\\z3020\\anaconda3\\envs\\tensorflow-gpu\\lib\\site-packages\\sklearn\\utils\\deprecation.py:87: FutureWarning: Function load_boston is deprecated; `load_boston` is deprecated in 1.0 and will be removed in 1.2.\n",
      "\n",
      "    The Boston housing prices dataset has an ethical problem. You can refer to\n",
      "    the documentation of this function for further details.\n",
      "\n",
      "    The scikit-learn maintainers therefore strongly discourage the use of this\n",
      "    dataset unless the purpose of the code is to study and educate about\n",
      "    ethical issues in data science and machine learning.\n",
      "\n",
      "    In this case special case, you can fetch the dataset from the original\n",
      "    source::\n",
      "\n",
      "        import pandas as pd\n",
      "        import numpy as np\n",
      "\n",
      "\n",
      "        data_url = \"http://lib.stat.cmu.edu/datasets/boston\"\n",
      "        raw_df = pd.read_csv(data_url, sep=\"\\s+\", skiprows=22, header=None)\n",
      "        data = np.hstack([raw_df.values[::2, :], raw_df.values[1::2, :2]])\n",
      "        target = raw_df.values[1::2, 2]\n",
      "\n",
      "    Alternative datasets include the California housing dataset (i.e.\n",
      "    func:`~sklearn.datasets.fetch_california_housing`) and the Ames housing\n",
      "    dataset. You can load the datasets as follows:\n",
      "\n",
      "        from sklearn.datasets import fetch_california_housing\n",
      "        housing = fetch_california_housing()\n",
      "\n",
      "    for the California housing dataset and:\n",
      "\n",
      "        from sklearn.datasets import fetch_openml\n",
      "        housing = fetch_openml(name=\"house_prices\", as_frame=True)\n",
      "\n",
      "    for the Ames housing dataset.\n",
      "    \n",
      "  warnings.warn(msg, category=FutureWarning)\n"
     ]
    }
   ],
   "source": [
    "import pandas as pd\n",
    "from sklearn.datasets import load_boston\n",
    "boston = load_boston()"
   ]
  },
  {
   "cell_type": "code",
   "execution_count": 2,
   "metadata": {},
   "outputs": [
    {
     "data": {
      "text/plain": [
       "array([6.320e-03, 1.800e+01, 2.310e+00, 0.000e+00, 5.380e-01, 6.575e+00,\n",
       "       6.520e+01, 4.090e+00, 1.000e+00, 2.960e+02, 1.530e+01, 3.969e+02,\n",
       "       4.980e+00])"
      ]
     },
     "execution_count": 2,
     "metadata": {},
     "output_type": "execute_result"
    }
   ],
   "source": [
    "boston.data[0]"
   ]
  },
  {
   "cell_type": "code",
   "execution_count": 3,
   "metadata": {},
   "outputs": [
    {
     "data": {
      "text/plain": [
       "array([-0.41978194,  0.28482986, -1.2879095 , -0.27259857, -0.14421743,\n",
       "        0.41367189, -0.12001342,  0.1402136 , -0.98284286, -0.66660821,\n",
       "       -1.45900038,  0.44105193, -1.0755623 ])"
      ]
     },
     "execution_count": 3,
     "metadata": {},
     "output_type": "execute_result"
    }
   ],
   "source": [
    "from sklearn.preprocessing import StandardScaler\n",
    "ss = StandardScaler()\n",
    "scaled_data = ss.fit_transform(boston.data)\n",
    "scaled_data[0]"
   ]
  },
  {
   "cell_type": "code",
   "execution_count": null,
   "metadata": {},
   "outputs": [],
   "source": []
  },
  {
   "cell_type": "code",
   "execution_count": 4,
   "metadata": {},
   "outputs": [
    {
     "data": {
      "text/plain": [
       "array([[-0.06959315,  1.44      , -0.57164988, ..., -1.33928571,\n",
       "         0.26190191, -0.63768116],\n",
       "       [-0.06375455,  0.        , -0.20294345, ..., -0.44642857,\n",
       "         0.26190191, -0.22188906],\n",
       "       [-0.06376011,  0.        , -0.20294345, ..., -0.44642857,\n",
       "         0.06667466, -0.73263368],\n",
       "       ...,\n",
       "       [-0.05445006,  0.        ,  0.17350891, ...,  0.69642857,\n",
       "         0.26190191, -0.57171414],\n",
       "       [-0.04086745,  0.        ,  0.17350891, ...,  0.69642857,\n",
       "         0.09641444, -0.48775612],\n",
       "       [-0.05816351,  0.        ,  0.17350891, ...,  0.69642857,\n",
       "         0.26190191, -0.34782609]])"
      ]
     },
     "execution_count": 4,
     "metadata": {},
     "output_type": "execute_result"
    }
   ],
   "source": [
    "from sklearn.preprocessing import RobustScaler\n",
    "rb1 = RobustScaler(quantile_range=(25,75))\n",
    "scaled_data = rb1.fit_transform(boston.data)\n",
    "scaled_data"
   ]
  },
  {
   "cell_type": "code",
   "execution_count": 5,
   "metadata": {},
   "outputs": [],
   "source": [
    "# from sklearn.preprocessing import Normalizer\n",
    "# D = [[4,1,2,2],[1,3,9,3],[5,7,5,1]]\n",
    "# no = Normalizer(norm='max')\n",
    "# scaled_data = no.fit_transform(D)\n",
    "# scaled_data[0]"
   ]
  },
  {
   "cell_type": "code",
   "execution_count": 6,
   "metadata": {},
   "outputs": [],
   "source": [
    "# scaled_data[1]"
   ]
  },
  {
   "cell_type": "code",
   "execution_count": 7,
   "metadata": {},
   "outputs": [],
   "source": [
    "# scaled_data[2]"
   ]
  },
  {
   "cell_type": "code",
   "execution_count": 8,
   "metadata": {},
   "outputs": [],
   "source": [
    "# D = [[4,1,2,2],[1,3,9,3],[5,7,5,1]]\n",
    "# no = Normalizer(norm='l2')\n",
    "# scaled_data = no.fit_transform(D)\n",
    "# scaled_data[0]"
   ]
  },
  {
   "cell_type": "code",
   "execution_count": 9,
   "metadata": {},
   "outputs": [
    {
     "data": {
      "text/plain": [
       "array([1.26388341e-05, 3.59966795e-02, 4.61957387e-03, 0.00000000e+00,\n",
       "       1.07590075e-03, 1.31487871e-02, 1.30387972e-01, 8.17924550e-03,\n",
       "       1.99981553e-03, 5.91945396e-01, 3.05971776e-02, 7.93726783e-01,\n",
       "       9.95908132e-03])"
      ]
     },
     "execution_count": 9,
     "metadata": {},
     "output_type": "execute_result"
    }
   ],
   "source": [
    "from sklearn.preprocessing import Normalizer\n",
    "no = Normalizer(norm='l2')\n",
    "scaled_data = no.fit_transform(boston.data)\n",
    "scaled_data[0]"
   ]
  },
  {
   "cell_type": "code",
   "execution_count": 10,
   "metadata": {},
   "outputs": [
    {
     "data": {
      "text/plain": [
       "array([1.35912445e-04, 2.19042585e-03, 1.13936480e-04, 2.31938388e-07,\n",
       "       3.57523064e-08, 7.17145965e-06, 2.34167722e-03, 2.10075635e-05,\n",
       "       1.15220973e-04, 2.29559216e-02, 3.54219041e-05, 4.42122216e-02,\n",
       "       1.27562719e-04])"
      ]
     },
     "execution_count": 10,
     "metadata": {},
     "output_type": "execute_result"
    }
   ],
   "source": [
    "scaled_data.var(axis=0)"
   ]
  },
  {
   "cell_type": "code",
   "execution_count": 11,
   "metadata": {},
   "outputs": [
    {
     "data": {
      "text/plain": [
       "array([1.35912445e-04, 2.19042585e-03, 1.13936480e-04, 7.17145965e-06,\n",
       "       2.34167722e-03, 2.10075635e-05, 1.15220973e-04, 2.29559216e-02,\n",
       "       3.54219041e-05, 4.42122216e-02, 1.27562719e-04])"
      ]
     },
     "execution_count": 11,
     "metadata": {},
     "output_type": "execute_result"
    }
   ],
   "source": [
    "from sklearn.feature_selection import VarianceThreshold\n",
    "vt = VarianceThreshold(threshold=1e-06)\n",
    "X_t = vt.fit_transform(scaled_data)\n",
    "X_t.var(axis=0)\n"
   ]
  },
  {
   "cell_type": "code",
   "execution_count": 12,
   "metadata": {},
   "outputs": [
    {
     "data": {
      "text/html": [
       "<div>\n",
       "<style scoped>\n",
       "    .dataframe tbody tr th:only-of-type {\n",
       "        vertical-align: middle;\n",
       "    }\n",
       "\n",
       "    .dataframe tbody tr th {\n",
       "        vertical-align: top;\n",
       "    }\n",
       "\n",
       "    .dataframe thead th {\n",
       "        text-align: right;\n",
       "    }\n",
       "</style>\n",
       "<table border=\"1\" class=\"dataframe\">\n",
       "  <thead>\n",
       "    <tr style=\"text-align: right;\">\n",
       "      <th></th>\n",
       "      <th>0</th>\n",
       "      <th>1</th>\n",
       "      <th>2</th>\n",
       "      <th>3</th>\n",
       "      <th>4</th>\n",
       "      <th>5</th>\n",
       "      <th>6</th>\n",
       "      <th>7</th>\n",
       "      <th>8</th>\n",
       "      <th>9</th>\n",
       "      <th>10</th>\n",
       "      <th>11</th>\n",
       "      <th>12</th>\n",
       "    </tr>\n",
       "  </thead>\n",
       "  <tbody>\n",
       "    <tr>\n",
       "      <th>0</th>\n",
       "      <td>1.000000</td>\n",
       "      <td>-0.205192</td>\n",
       "      <td>0.245464</td>\n",
       "      <td>-0.063482</td>\n",
       "      <td>-0.082490</td>\n",
       "      <td>-0.493091</td>\n",
       "      <td>0.086833</td>\n",
       "      <td>-0.418761</td>\n",
       "      <td>0.614061</td>\n",
       "      <td>0.549387</td>\n",
       "      <td>-0.376433</td>\n",
       "      <td>-0.590330</td>\n",
       "      <td>0.251341</td>\n",
       "    </tr>\n",
       "    <tr>\n",
       "      <th>1</th>\n",
       "      <td>-0.205192</td>\n",
       "      <td>1.000000</td>\n",
       "      <td>-0.521011</td>\n",
       "      <td>-0.018833</td>\n",
       "      <td>-0.295368</td>\n",
       "      <td>0.386083</td>\n",
       "      <td>-0.480704</td>\n",
       "      <td>0.643931</td>\n",
       "      <td>-0.313237</td>\n",
       "      <td>-0.328365</td>\n",
       "      <td>0.032697</td>\n",
       "      <td>0.297844</td>\n",
       "      <td>-0.374457</td>\n",
       "    </tr>\n",
       "    <tr>\n",
       "      <th>2</th>\n",
       "      <td>0.245464</td>\n",
       "      <td>-0.521011</td>\n",
       "      <td>1.000000</td>\n",
       "      <td>0.081560</td>\n",
       "      <td>0.413239</td>\n",
       "      <td>-0.449057</td>\n",
       "      <td>0.446556</td>\n",
       "      <td>-0.627556</td>\n",
       "      <td>0.281220</td>\n",
       "      <td>0.456853</td>\n",
       "      <td>-0.197157</td>\n",
       "      <td>-0.447110</td>\n",
       "      <td>0.479574</td>\n",
       "    </tr>\n",
       "    <tr>\n",
       "      <th>3</th>\n",
       "      <td>-0.063482</td>\n",
       "      <td>-0.018833</td>\n",
       "      <td>0.081560</td>\n",
       "      <td>1.000000</td>\n",
       "      <td>0.147321</td>\n",
       "      <td>0.103504</td>\n",
       "      <td>0.115177</td>\n",
       "      <td>-0.051694</td>\n",
       "      <td>-0.039560</td>\n",
       "      <td>-0.075415</td>\n",
       "      <td>-0.016335</td>\n",
       "      <td>0.070136</td>\n",
       "      <td>-0.002416</td>\n",
       "    </tr>\n",
       "    <tr>\n",
       "      <th>4</th>\n",
       "      <td>-0.082490</td>\n",
       "      <td>-0.295368</td>\n",
       "      <td>0.413239</td>\n",
       "      <td>0.147321</td>\n",
       "      <td>1.000000</td>\n",
       "      <td>0.248086</td>\n",
       "      <td>0.599989</td>\n",
       "      <td>-0.258357</td>\n",
       "      <td>-0.212984</td>\n",
       "      <td>-0.120496</td>\n",
       "      <td>0.205663</td>\n",
       "      <td>0.041660</td>\n",
       "      <td>0.365536</td>\n",
       "    </tr>\n",
       "    <tr>\n",
       "      <th>5</th>\n",
       "      <td>-0.493091</td>\n",
       "      <td>0.386083</td>\n",
       "      <td>-0.449057</td>\n",
       "      <td>0.103504</td>\n",
       "      <td>0.248086</td>\n",
       "      <td>1.000000</td>\n",
       "      <td>-0.038815</td>\n",
       "      <td>0.579272</td>\n",
       "      <td>-0.699097</td>\n",
       "      <td>-0.796949</td>\n",
       "      <td>0.587491</td>\n",
       "      <td>0.679878</td>\n",
       "      <td>-0.381343</td>\n",
       "    </tr>\n",
       "    <tr>\n",
       "      <th>6</th>\n",
       "      <td>0.086833</td>\n",
       "      <td>-0.480704</td>\n",
       "      <td>0.446556</td>\n",
       "      <td>0.115177</td>\n",
       "      <td>0.599989</td>\n",
       "      <td>-0.038815</td>\n",
       "      <td>1.000000</td>\n",
       "      <td>-0.493383</td>\n",
       "      <td>0.025017</td>\n",
       "      <td>0.079468</td>\n",
       "      <td>0.048141</td>\n",
       "      <td>-0.129902</td>\n",
       "      <td>0.496527</td>\n",
       "    </tr>\n",
       "    <tr>\n",
       "      <th>7</th>\n",
       "      <td>-0.418761</td>\n",
       "      <td>0.643931</td>\n",
       "      <td>-0.627556</td>\n",
       "      <td>-0.051694</td>\n",
       "      <td>-0.258357</td>\n",
       "      <td>0.579272</td>\n",
       "      <td>-0.493383</td>\n",
       "      <td>1.000000</td>\n",
       "      <td>-0.561763</td>\n",
       "      <td>-0.617397</td>\n",
       "      <td>0.489528</td>\n",
       "      <td>0.578780</td>\n",
       "      <td>-0.325799</td>\n",
       "    </tr>\n",
       "    <tr>\n",
       "      <th>8</th>\n",
       "      <td>0.614061</td>\n",
       "      <td>-0.313237</td>\n",
       "      <td>0.281220</td>\n",
       "      <td>-0.039560</td>\n",
       "      <td>-0.212984</td>\n",
       "      <td>-0.699097</td>\n",
       "      <td>0.025017</td>\n",
       "      <td>-0.561763</td>\n",
       "      <td>1.000000</td>\n",
       "      <td>0.802666</td>\n",
       "      <td>-0.580860</td>\n",
       "      <td>-0.812470</td>\n",
       "      <td>0.167301</td>\n",
       "    </tr>\n",
       "    <tr>\n",
       "      <th>9</th>\n",
       "      <td>0.549387</td>\n",
       "      <td>-0.328365</td>\n",
       "      <td>0.456853</td>\n",
       "      <td>-0.075415</td>\n",
       "      <td>-0.120496</td>\n",
       "      <td>-0.796949</td>\n",
       "      <td>0.079468</td>\n",
       "      <td>-0.617397</td>\n",
       "      <td>0.802666</td>\n",
       "      <td>1.000000</td>\n",
       "      <td>-0.653434</td>\n",
       "      <td>-0.940041</td>\n",
       "      <td>0.256100</td>\n",
       "    </tr>\n",
       "    <tr>\n",
       "      <th>10</th>\n",
       "      <td>-0.376433</td>\n",
       "      <td>0.032697</td>\n",
       "      <td>-0.197157</td>\n",
       "      <td>-0.016335</td>\n",
       "      <td>0.205663</td>\n",
       "      <td>0.587491</td>\n",
       "      <td>0.048141</td>\n",
       "      <td>0.489528</td>\n",
       "      <td>-0.580860</td>\n",
       "      <td>-0.653434</td>\n",
       "      <td>1.000000</td>\n",
       "      <td>0.536451</td>\n",
       "      <td>0.043358</td>\n",
       "    </tr>\n",
       "    <tr>\n",
       "      <th>11</th>\n",
       "      <td>-0.590330</td>\n",
       "      <td>0.297844</td>\n",
       "      <td>-0.447110</td>\n",
       "      <td>0.070136</td>\n",
       "      <td>0.041660</td>\n",
       "      <td>0.679878</td>\n",
       "      <td>-0.129902</td>\n",
       "      <td>0.578780</td>\n",
       "      <td>-0.812470</td>\n",
       "      <td>-0.940041</td>\n",
       "      <td>0.536451</td>\n",
       "      <td>1.000000</td>\n",
       "      <td>-0.296458</td>\n",
       "    </tr>\n",
       "    <tr>\n",
       "      <th>12</th>\n",
       "      <td>0.251341</td>\n",
       "      <td>-0.374457</td>\n",
       "      <td>0.479574</td>\n",
       "      <td>-0.002416</td>\n",
       "      <td>0.365536</td>\n",
       "      <td>-0.381343</td>\n",
       "      <td>0.496527</td>\n",
       "      <td>-0.325799</td>\n",
       "      <td>0.167301</td>\n",
       "      <td>0.256100</td>\n",
       "      <td>0.043358</td>\n",
       "      <td>-0.296458</td>\n",
       "      <td>1.000000</td>\n",
       "    </tr>\n",
       "  </tbody>\n",
       "</table>\n",
       "</div>"
      ],
      "text/plain": [
       "          0         1         2         3         4         5         6   \\\n",
       "0   1.000000 -0.205192  0.245464 -0.063482 -0.082490 -0.493091  0.086833   \n",
       "1  -0.205192  1.000000 -0.521011 -0.018833 -0.295368  0.386083 -0.480704   \n",
       "2   0.245464 -0.521011  1.000000  0.081560  0.413239 -0.449057  0.446556   \n",
       "3  -0.063482 -0.018833  0.081560  1.000000  0.147321  0.103504  0.115177   \n",
       "4  -0.082490 -0.295368  0.413239  0.147321  1.000000  0.248086  0.599989   \n",
       "5  -0.493091  0.386083 -0.449057  0.103504  0.248086  1.000000 -0.038815   \n",
       "6   0.086833 -0.480704  0.446556  0.115177  0.599989 -0.038815  1.000000   \n",
       "7  -0.418761  0.643931 -0.627556 -0.051694 -0.258357  0.579272 -0.493383   \n",
       "8   0.614061 -0.313237  0.281220 -0.039560 -0.212984 -0.699097  0.025017   \n",
       "9   0.549387 -0.328365  0.456853 -0.075415 -0.120496 -0.796949  0.079468   \n",
       "10 -0.376433  0.032697 -0.197157 -0.016335  0.205663  0.587491  0.048141   \n",
       "11 -0.590330  0.297844 -0.447110  0.070136  0.041660  0.679878 -0.129902   \n",
       "12  0.251341 -0.374457  0.479574 -0.002416  0.365536 -0.381343  0.496527   \n",
       "\n",
       "          7         8         9         10        11        12  \n",
       "0  -0.418761  0.614061  0.549387 -0.376433 -0.590330  0.251341  \n",
       "1   0.643931 -0.313237 -0.328365  0.032697  0.297844 -0.374457  \n",
       "2  -0.627556  0.281220  0.456853 -0.197157 -0.447110  0.479574  \n",
       "3  -0.051694 -0.039560 -0.075415 -0.016335  0.070136 -0.002416  \n",
       "4  -0.258357 -0.212984 -0.120496  0.205663  0.041660  0.365536  \n",
       "5   0.579272 -0.699097 -0.796949  0.587491  0.679878 -0.381343  \n",
       "6  -0.493383  0.025017  0.079468  0.048141 -0.129902  0.496527  \n",
       "7   1.000000 -0.561763 -0.617397  0.489528  0.578780 -0.325799  \n",
       "8  -0.561763  1.000000  0.802666 -0.580860 -0.812470  0.167301  \n",
       "9  -0.617397  0.802666  1.000000 -0.653434 -0.940041  0.256100  \n",
       "10  0.489528 -0.580860 -0.653434  1.000000  0.536451  0.043358  \n",
       "11  0.578780 -0.812470 -0.940041  0.536451  1.000000 -0.296458  \n",
       "12 -0.325799  0.167301  0.256100  0.043358 -0.296458  1.000000  "
      ]
     },
     "execution_count": 12,
     "metadata": {},
     "output_type": "execute_result"
    }
   ],
   "source": [
    "import pandas as pd\n",
    "df = pd.DataFrame(scaled_data)\n",
    "df.corr()"
   ]
  }
 ],
 "metadata": {
  "interpreter": {
   "hash": "2e2c2a51e572578b9c475a35e1adf39c2e513ec2c0b99b2b56d0afa52140f3a8"
  },
  "kernelspec": {
   "display_name": "Python 3.8.11 64-bit ('tensorflow-gpu': conda)",
   "name": "python3"
  },
  "language_info": {
   "codemirror_mode": {
    "name": "ipython",
    "version": 3
   },
   "file_extension": ".py",
   "mimetype": "text/x-python",
   "name": "python",
   "nbconvert_exporter": "python",
   "pygments_lexer": "ipython3",
   "version": "3.8.11"
  },
  "orig_nbformat": 4
 },
 "nbformat": 4,
 "nbformat_minor": 2
}
